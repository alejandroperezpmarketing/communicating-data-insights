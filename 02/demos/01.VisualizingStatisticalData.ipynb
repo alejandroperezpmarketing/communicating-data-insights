{
 "cells": [
  {
   "cell_type": "markdown",
   "metadata": {},
   "source": [
    "## Statistical Data"
   ]
  },
  {
   "cell_type": "code",
   "execution_count": 1,
   "metadata": {},
   "outputs": [
    {
     "name": "stdout",
     "output_type": "stream",
     "text": [
      "Python 3.6.4 :: Anaconda custom (64-bit)\r\n"
     ]
    }
   ],
   "source": [
    "!python --version"
   ]
  },
  {
   "cell_type": "code",
   "execution_count": 1,
   "metadata": {},
   "outputs": [
    {
     "name": "stdout",
     "output_type": "stream",
     "text": [
      "Collecting matplotlib\n",
      "\u001b[?25l  Downloading https://files.pythonhosted.org/packages/45/bf/8d8233749b5f8580bdfdb2aeed0d2df177daab44cfebc5c0de827ce1b11e/matplotlib-3.1.0-cp36-cp36m-macosx_10_6_intel.macosx_10_9_intel.macosx_10_9_x86_64.macosx_10_10_intel.macosx_10_10_x86_64.whl (14.4MB)\n",
      "\u001b[K     |████████████████████████████████| 14.4MB 984kB/s eta 0:00:01\n",
      "\u001b[?25hRequirement already satisfied, skipping upgrade: python-dateutil>=2.1 in /anaconda3/lib/python3.6/site-packages (from matplotlib) (2.6.1)\n",
      "Requirement already satisfied, skipping upgrade: cycler>=0.10 in /anaconda3/lib/python3.6/site-packages (from matplotlib) (0.10.0)\n",
      "Collecting kiwisolver>=1.0.1 (from matplotlib)\n",
      "\u001b[?25l  Downloading https://files.pythonhosted.org/packages/49/5d/d1726d2a2fd471a69ef5014ca42812e1ccb8a13085c42bfcb238a5611f39/kiwisolver-1.1.0-cp36-cp36m-macosx_10_6_intel.macosx_10_9_intel.macosx_10_9_x86_64.macosx_10_10_intel.macosx_10_10_x86_64.whl (113kB)\n",
      "\u001b[K     |████████████████████████████████| 122kB 27.8MB/s eta 0:00:01\n",
      "\u001b[?25hRequirement already satisfied, skipping upgrade: pyparsing!=2.0.4,!=2.1.2,!=2.1.6,>=2.0.1 in /anaconda3/lib/python3.6/site-packages (from matplotlib) (2.2.0)\n",
      "Requirement already satisfied, skipping upgrade: numpy>=1.11 in /anaconda3/lib/python3.6/site-packages (from matplotlib) (1.14.5)\n",
      "Requirement already satisfied, skipping upgrade: six>=1.5 in /anaconda3/lib/python3.6/site-packages (from python-dateutil>=2.1->matplotlib) (1.11.0)\n",
      "Requirement already satisfied, skipping upgrade: setuptools in /anaconda3/lib/python3.6/site-packages (from kiwisolver>=1.0.1->matplotlib) (39.1.0)\n",
      "Installing collected packages: kiwisolver, matplotlib\n",
      "  Found existing installation: matplotlib 2.1.2\n",
      "    Uninstalling matplotlib-2.1.2:\n",
      "      Successfully uninstalled matplotlib-2.1.2\n",
      "Successfully installed kiwisolver-1.1.0 matplotlib-3.1.0\n",
      "\u001b[33mWARNING: You are using pip version 19.1, however version 19.1.1 is available.\n",
      "You should consider upgrading via the 'pip install --upgrade pip' command.\u001b[0m\n"
     ]
    }
   ],
   "source": [
    "!pip install -U matplotlib"
   ]
  },
  {
   "cell_type": "code",
   "execution_count": 2,
   "metadata": {},
   "outputs": [],
   "source": [
    "import numpy as np\n",
    "\n",
    "import matplotlib\n",
    "import matplotlib.pyplot as plt\n",
    "\n",
    "import pandas as pd\n",
    "\n",
    "from scipy import stats"
   ]
  },
  {
   "cell_type": "code",
   "execution_count": 3,
   "metadata": {},
   "outputs": [
    {
     "data": {
      "text/plain": [
       "'2.1.2'"
      ]
     },
     "execution_count": 3,
     "metadata": {},
     "output_type": "execute_result"
    }
   ],
   "source": [
    "matplotlib.__version__"
   ]
  },
  {
   "cell_type": "markdown",
   "metadata": {},
   "source": [
    "Dataset source: <br>\n",
    "https://www.kaggle.com/zaephaer/vegetable-oil-monthly-price<br>\n",
    "Monthly and Yearly data of multiple vegetable oil price. Data collected from MPOB website. From 2006 to 2018."
   ]
  },
  {
   "cell_type": "code",
   "execution_count": 6,
   "metadata": {},
   "outputs": [
    {
     "data": {
      "text/html": [
       "<div>\n",
       "<style scoped>\n",
       "    .dataframe tbody tr th:only-of-type {\n",
       "        vertical-align: middle;\n",
       "    }\n",
       "\n",
       "    .dataframe tbody tr th {\n",
       "        vertical-align: top;\n",
       "    }\n",
       "\n",
       "    .dataframe thead th {\n",
       "        text-align: right;\n",
       "    }\n",
       "</style>\n",
       "<table border=\"1\" class=\"dataframe\">\n",
       "  <thead>\n",
       "    <tr style=\"text-align: right;\">\n",
       "      <th></th>\n",
       "      <th>Year</th>\n",
       "      <th>Month</th>\n",
       "      <th>CrudePalmOil</th>\n",
       "      <th>SoyabeanOil</th>\n",
       "      <th>GroundnutOil</th>\n",
       "      <th>SunflowerOil</th>\n",
       "      <th>RapeseedOil</th>\n",
       "      <th>CoconutOil</th>\n",
       "      <th>FishOil</th>\n",
       "      <th>Tallow</th>\n",
       "      <th>Lard</th>\n",
       "    </tr>\n",
       "  </thead>\n",
       "  <tbody>\n",
       "    <tr>\n",
       "      <th>0</th>\n",
       "      <td>2006</td>\n",
       "      <td>Jan</td>\n",
       "      <td>424.0</td>\n",
       "      <td>532.0</td>\n",
       "      <td>930.0</td>\n",
       "      <td>591.0</td>\n",
       "      <td>733.0</td>\n",
       "      <td>569.0</td>\n",
       "      <td>750.0</td>\n",
       "      <td>445.0</td>\n",
       "      <td>407.0</td>\n",
       "    </tr>\n",
       "    <tr>\n",
       "      <th>1</th>\n",
       "      <td>2006</td>\n",
       "      <td>Feb</td>\n",
       "      <td>445.0</td>\n",
       "      <td>535.0</td>\n",
       "      <td>921.0</td>\n",
       "      <td>595.0</td>\n",
       "      <td>723.0</td>\n",
       "      <td>591.0</td>\n",
       "      <td>761.0</td>\n",
       "      <td>430.0</td>\n",
       "      <td>405.0</td>\n",
       "    </tr>\n",
       "    <tr>\n",
       "      <th>2</th>\n",
       "      <td>2006</td>\n",
       "      <td>Mar</td>\n",
       "      <td>440.0</td>\n",
       "      <td>539.0</td>\n",
       "      <td>902.0</td>\n",
       "      <td>606.0</td>\n",
       "      <td>742.0</td>\n",
       "      <td>575.0</td>\n",
       "      <td>807.0</td>\n",
       "      <td>410.0</td>\n",
       "      <td>431.0</td>\n",
       "    </tr>\n",
       "    <tr>\n",
       "      <th>3</th>\n",
       "      <td>2006</td>\n",
       "      <td>Apr</td>\n",
       "      <td>439.0</td>\n",
       "      <td>540.0</td>\n",
       "      <td>899.0</td>\n",
       "      <td>659.0</td>\n",
       "      <td>796.0</td>\n",
       "      <td>578.0</td>\n",
       "      <td>840.0</td>\n",
       "      <td>394.0</td>\n",
       "      <td>437.0</td>\n",
       "    </tr>\n",
       "    <tr>\n",
       "      <th>4</th>\n",
       "      <td>2006</td>\n",
       "      <td>May</td>\n",
       "      <td>440.0</td>\n",
       "      <td>588.0</td>\n",
       "      <td>892.0</td>\n",
       "      <td>679.0</td>\n",
       "      <td>838.0</td>\n",
       "      <td>583.0</td>\n",
       "      <td>841.0</td>\n",
       "      <td>408.0</td>\n",
       "      <td>447.0</td>\n",
       "    </tr>\n",
       "  </tbody>\n",
       "</table>\n",
       "</div>"
      ],
      "text/plain": [
       "   Year Month  CrudePalmOil   SoyabeanOil   GroundnutOil   SunflowerOil   \\\n",
       "0  2006   Jan          424.0         532.0          930.0          591.0   \n",
       "1  2006   Feb          445.0         535.0          921.0          595.0   \n",
       "2  2006   Mar          440.0         539.0          902.0          606.0   \n",
       "3  2006   Apr          439.0         540.0          899.0          659.0   \n",
       "4  2006   May          440.0         588.0          892.0          679.0   \n",
       "\n",
       "   RapeseedOil   CoconutOil   FishOil   Tallow   Lard   \n",
       "0         733.0        569.0     750.0    445.0  407.0  \n",
       "1         723.0        591.0     761.0    430.0  405.0  \n",
       "2         742.0        575.0     807.0    410.0  431.0  \n",
       "3         796.0        578.0     840.0    394.0  437.0  \n",
       "4         838.0        583.0     841.0    408.0  447.0  "
      ]
     },
     "execution_count": 6,
     "metadata": {},
     "output_type": "execute_result"
    }
   ],
   "source": [
    "oil_data = pd.read_csv('datasets/MPOB_data1.csv')\n",
    "\n",
    "oil_data.head()"
   ]
  },
  {
   "cell_type": "code",
   "execution_count": 5,
   "metadata": {},
   "outputs": [
    {
     "data": {
      "text/html": [
       "<div>\n",
       "<style scoped>\n",
       "    .dataframe tbody tr th:only-of-type {\n",
       "        vertical-align: middle;\n",
       "    }\n",
       "\n",
       "    .dataframe tbody tr th {\n",
       "        vertical-align: top;\n",
       "    }\n",
       "\n",
       "    .dataframe thead th {\n",
       "        text-align: right;\n",
       "    }\n",
       "</style>\n",
       "<table border=\"1\" class=\"dataframe\">\n",
       "  <thead>\n",
       "    <tr style=\"text-align: right;\">\n",
       "      <th></th>\n",
       "      <th>Year</th>\n",
       "      <th>CrudePalmOil</th>\n",
       "      <th>SoyabeanOil</th>\n",
       "      <th>GroundnutOil</th>\n",
       "      <th>SunflowerOil</th>\n",
       "      <th>RapeseedOil</th>\n",
       "      <th>CoconutOil</th>\n",
       "      <th>FishOil</th>\n",
       "      <th>Tallow</th>\n",
       "      <th>Lard</th>\n",
       "    </tr>\n",
       "  </thead>\n",
       "  <tbody>\n",
       "    <tr>\n",
       "      <th>count</th>\n",
       "      <td>156.000000</td>\n",
       "      <td>153.000000</td>\n",
       "      <td>153.000000</td>\n",
       "      <td>153.000000</td>\n",
       "      <td>153.000000</td>\n",
       "      <td>153.000000</td>\n",
       "      <td>153.000000</td>\n",
       "      <td>153.000000</td>\n",
       "      <td>153.000000</td>\n",
       "      <td>153.000000</td>\n",
       "    </tr>\n",
       "    <tr>\n",
       "      <th>mean</th>\n",
       "      <td>2012.000000</td>\n",
       "      <td>792.725490</td>\n",
       "      <td>947.856209</td>\n",
       "      <td>1414.601307</td>\n",
       "      <td>988.843137</td>\n",
       "      <td>992.202614</td>\n",
       "      <td>1149.137255</td>\n",
       "      <td>1482.954248</td>\n",
       "      <td>853.215686</td>\n",
       "      <td>792.594771</td>\n",
       "    </tr>\n",
       "    <tr>\n",
       "      <th>std</th>\n",
       "      <td>3.753708</td>\n",
       "      <td>205.275336</td>\n",
       "      <td>229.628287</td>\n",
       "      <td>515.906259</td>\n",
       "      <td>314.525292</td>\n",
       "      <td>227.338443</td>\n",
       "      <td>364.608443</td>\n",
       "      <td>456.779751</td>\n",
       "      <td>220.306095</td>\n",
       "      <td>209.217321</td>\n",
       "    </tr>\n",
       "    <tr>\n",
       "      <th>min</th>\n",
       "      <td>2006.000000</td>\n",
       "      <td>424.000000</td>\n",
       "      <td>532.000000</td>\n",
       "      <td>0.000000</td>\n",
       "      <td>0.000000</td>\n",
       "      <td>709.000000</td>\n",
       "      <td>569.000000</td>\n",
       "      <td>620.000000</td>\n",
       "      <td>394.000000</td>\n",
       "      <td>405.000000</td>\n",
       "    </tr>\n",
       "    <tr>\n",
       "      <th>25%</th>\n",
       "      <td>2009.000000</td>\n",
       "      <td>663.000000</td>\n",
       "      <td>790.000000</td>\n",
       "      <td>1214.000000</td>\n",
       "      <td>802.000000</td>\n",
       "      <td>817.000000</td>\n",
       "      <td>861.000000</td>\n",
       "      <td>1015.000000</td>\n",
       "      <td>737.000000</td>\n",
       "      <td>638.000000</td>\n",
       "    </tr>\n",
       "    <tr>\n",
       "      <th>50%</th>\n",
       "      <td>2012.000000</td>\n",
       "      <td>771.000000</td>\n",
       "      <td>883.000000</td>\n",
       "      <td>1356.000000</td>\n",
       "      <td>887.000000</td>\n",
       "      <td>896.000000</td>\n",
       "      <td>1131.000000</td>\n",
       "      <td>1580.000000</td>\n",
       "      <td>838.000000</td>\n",
       "      <td>762.000000</td>\n",
       "    </tr>\n",
       "    <tr>\n",
       "      <th>75%</th>\n",
       "      <td>2015.000000</td>\n",
       "      <td>906.000000</td>\n",
       "      <td>1140.000000</td>\n",
       "      <td>1673.000000</td>\n",
       "      <td>1221.000000</td>\n",
       "      <td>1190.000000</td>\n",
       "      <td>1439.000000</td>\n",
       "      <td>1800.000000</td>\n",
       "      <td>1025.000000</td>\n",
       "      <td>930.000000</td>\n",
       "    </tr>\n",
       "    <tr>\n",
       "      <th>max</th>\n",
       "      <td>2018.000000</td>\n",
       "      <td>1292.000000</td>\n",
       "      <td>1537.000000</td>\n",
       "      <td>2555.000000</td>\n",
       "      <td>2045.000000</td>\n",
       "      <td>1577.000000</td>\n",
       "      <td>2256.000000</td>\n",
       "      <td>2400.000000</td>\n",
       "      <td>1363.000000</td>\n",
       "      <td>1392.000000</td>\n",
       "    </tr>\n",
       "  </tbody>\n",
       "</table>\n",
       "</div>"
      ],
      "text/plain": [
       "              Year  CrudePalmOil   SoyabeanOil   GroundnutOil   SunflowerOil   \\\n",
       "count   156.000000     153.000000    153.000000     153.000000     153.000000   \n",
       "mean   2012.000000     792.725490    947.856209    1414.601307     988.843137   \n",
       "std       3.753708     205.275336    229.628287     515.906259     314.525292   \n",
       "min    2006.000000     424.000000    532.000000       0.000000       0.000000   \n",
       "25%    2009.000000     663.000000    790.000000    1214.000000     802.000000   \n",
       "50%    2012.000000     771.000000    883.000000    1356.000000     887.000000   \n",
       "75%    2015.000000     906.000000   1140.000000    1673.000000    1221.000000   \n",
       "max    2018.000000    1292.000000   1537.000000    2555.000000    2045.000000   \n",
       "\n",
       "       RapeseedOil   CoconutOil      FishOil       Tallow         Lard   \n",
       "count    153.000000   153.000000   153.000000   153.000000   153.000000  \n",
       "mean     992.202614  1149.137255  1482.954248   853.215686   792.594771  \n",
       "std      227.338443   364.608443   456.779751   220.306095   209.217321  \n",
       "min      709.000000   569.000000   620.000000   394.000000   405.000000  \n",
       "25%      817.000000   861.000000  1015.000000   737.000000   638.000000  \n",
       "50%      896.000000  1131.000000  1580.000000   838.000000   762.000000  \n",
       "75%     1190.000000  1439.000000  1800.000000  1025.000000   930.000000  \n",
       "max     1577.000000  2256.000000  2400.000000  1363.000000  1392.000000  "
      ]
     },
     "execution_count": 5,
     "metadata": {},
     "output_type": "execute_result"
    }
   ],
   "source": [
    "oil_data.describe()"
   ]
  },
  {
   "cell_type": "code",
   "execution_count": 6,
   "metadata": {},
   "outputs": [
    {
     "data": {
      "text/plain": [
       "FishOil          1482.954248\n",
       "GroundnutOil     1414.601307\n",
       "CoconutOil       1149.137255\n",
       "RapeseedOil       992.202614\n",
       "SunflowerOil      988.843137\n",
       "SoyabeanOil       947.856209\n",
       "Tallow            853.215686\n",
       "CrudePalmOil      792.725490\n",
       "Lard              792.594771\n",
       "dtype: float64"
      ]
     },
     "execution_count": 6,
     "metadata": {},
     "output_type": "execute_result"
    }
   ],
   "source": [
    "oil_data.mean().sort_values(ascending=False)[1:]"
   ]
  },
  {
   "cell_type": "code",
   "execution_count": 7,
   "metadata": {},
   "outputs": [
    {
     "data": {
      "text/plain": [
       "Text(0, 0.5, 'Prices')"
      ]
     },
     "execution_count": 7,
     "metadata": {},
     "output_type": "execute_result"
    },
    {
     "data": {
      "image/png": "[encoded data removed]",
      "text/plain": [
       "<Figure size 1200x800 with 1 Axes>"
      ]
     },
     "metadata": {},
     "output_type": "display_data"
    }
   ],
   "source": [
    "fig, ax = plt.subplots(figsize=(12, 8))\n",
    "\n",
    "plt.xticks(rotation=70)\n",
    "\n",
    "plt.bar('FishOil', \n",
    "        oil_data['FishOil '], \n",
    "        width=0.5)\n",
    "\n",
    "plt.bar('GroundnutOil', \n",
    "        oil_data['GroundnutOil '], \n",
    "        width=0.5)\n",
    "\n",
    "plt.bar('CoconutOil', \n",
    "        oil_data['CoconutOil '], \n",
    "        width=0.5)\n",
    "\n",
    "plt.bar('RapeseedOil', \n",
    "        oil_data['RapeseedOil '], \n",
    "        width=0.5)\n",
    "\n",
    "plt.bar('SunflowerOil', \n",
    "        oil_data['SunflowerOil '], \n",
    "        width=0.5)\n",
    "\n",
    "plt.title('Oil Prices - 2006 to 2018')\n",
    "\n",
    "plt.xlabel('Oils')\n",
    "plt.ylabel('Prices')"
   ]
  },
  {
   "cell_type": "code",
   "execution_count": 7,
   "metadata": {},
   "outputs": [
    {
     "data": {
      "text/plain": [
       "2555.0"
      ]
     },
     "execution_count": 7,
     "metadata": {},
     "output_type": "execute_result"
    }
   ],
   "source": [
    "max_val = oil_data['GroundnutOil '].max()\n",
    "\n",
    "max_val"
   ]
  },
  {
   "cell_type": "code",
   "execution_count": 8,
   "metadata": {},
   "outputs": [
    {
     "data": {
      "text/html": [
       "<div>\n",
       "<style scoped>\n",
       "    .dataframe tbody tr th:only-of-type {\n",
       "        vertical-align: middle;\n",
       "    }\n",
       "\n",
       "    .dataframe tbody tr th {\n",
       "        vertical-align: top;\n",
       "    }\n",
       "\n",
       "    .dataframe thead th {\n",
       "        text-align: right;\n",
       "    }\n",
       "</style>\n",
       "<table border=\"1\" class=\"dataframe\">\n",
       "  <thead>\n",
       "    <tr style=\"text-align: right;\">\n",
       "      <th></th>\n",
       "      <th>Year</th>\n",
       "      <th>Month</th>\n",
       "      <th>CrudePalmOil</th>\n",
       "      <th>SoyabeanOil</th>\n",
       "      <th>GroundnutOil</th>\n",
       "      <th>SunflowerOil</th>\n",
       "      <th>RapeseedOil</th>\n",
       "      <th>CoconutOil</th>\n",
       "      <th>FishOil</th>\n",
       "      <th>Tallow</th>\n",
       "      <th>Lard</th>\n",
       "    </tr>\n",
       "  </thead>\n",
       "  <tbody>\n",
       "    <tr>\n",
       "      <th>76</th>\n",
       "      <td>2012</td>\n",
       "      <td>May</td>\n",
       "      <td>1085.0</td>\n",
       "      <td>1218.0</td>\n",
       "      <td>2555.0</td>\n",
       "      <td>1275.0</td>\n",
       "      <td>1235.0</td>\n",
       "      <td>1155.0</td>\n",
       "      <td>1758.0</td>\n",
       "      <td>1223.0</td>\n",
       "      <td>1045.0</td>\n",
       "    </tr>\n",
       "  </tbody>\n",
       "</table>\n",
       "</div>"
      ],
      "text/plain": [
       "    Year Month  CrudePalmOil   SoyabeanOil   GroundnutOil   SunflowerOil   \\\n",
       "76  2012   May         1085.0        1218.0         2555.0         1275.0   \n",
       "\n",
       "    RapeseedOil   CoconutOil   FishOil   Tallow    Lard   \n",
       "76        1235.0       1155.0    1758.0   1223.0  1045.0  "
      ]
     },
     "execution_count": 8,
     "metadata": {},
     "output_type": "execute_result"
    }
   ],
   "source": [
    "oil_data[:][oil_data['GroundnutOil '] == max_val]"
   ]
  },
  {
   "cell_type": "code",
   "execution_count": 9,
   "metadata": {},
   "outputs": [
    {
     "data": {
      "text/plain": [
       "0.0"
      ]
     },
     "execution_count": 9,
     "metadata": {},
     "output_type": "execute_result"
    }
   ],
   "source": [
    "min_val = oil_data['GroundnutOil '].min()\n",
    "\n",
    "min_val"
   ]
  },
  {
   "cell_type": "code",
   "execution_count": 11,
   "metadata": {},
   "outputs": [
    {
     "data": {
      "text/plain": [
       "1414.6013071895425"
      ]
     },
     "execution_count": 11,
     "metadata": {},
     "output_type": "execute_result"
    }
   ],
   "source": [
    "mean_val = oil_data['GroundnutOil '].mean()\n",
    "\n",
    "mean_val"
   ]
  },
  {
   "cell_type": "code",
   "execution_count": 12,
   "metadata": {},
   "outputs": [
    {
     "data": {
      "text/plain": [
       "1356.0"
      ]
     },
     "execution_count": 12,
     "metadata": {},
     "output_type": "execute_result"
    }
   ],
   "source": [
    "median_val = oil_data['GroundnutOil '].median()\n",
    "\n",
    "median_val"
   ]
  },
  {
   "cell_type": "code",
   "execution_count": 14,
   "metadata": {},
   "outputs": [
    {
     "data": {
      "text/plain": [
       "Text(0,0.5,'Prices')"
      ]
     },
     "execution_count": 14,
     "metadata": {},
     "output_type": "execute_result"
    },
    {
     "data": {
      "image/png": "[encoded data removed]",
      "text/plain": [
       "<matplotlib.figure.Figure at 0x10db64390>"
      ]
     },
     "metadata": {},
     "output_type": "display_data"
    }
   ],
   "source": [
    "fig, ax = plt.subplots(figsize=(12, 8))\n",
    "plt.xticks(rotation=90)\n",
    "\n",
    "plt.scatter(oil_data['Year'], \n",
    "            oil_data['GroundnutOil '], \n",
    "            color='blue')\n",
    "\n",
    "plt.axhline(max_val, label='Max', color='red')\n",
    "plt.axhline(min_val, label='Min', color='red')\n",
    "\n",
    "plt.axhline(mean_val, label='Mean', color='green')\n",
    "plt.axhline(median_val, label='Median', color='limegreen')\n",
    "\n",
    "\n",
    "plt.legend(loc='upper right', bbox_to_anchor=(1.2, 1))\n",
    "plt.title('GroundnutOil Oil Prices - 2006 to 2018')\n",
    "plt.xlabel('Year')\n",
    "plt.ylabel('Prices')"
   ]
  },
  {
   "cell_type": "code",
   "execution_count": null,
   "metadata": {},
   "outputs": [],
   "source": []
  },
  {
   "cell_type": "code",
   "execution_count": null,
   "metadata": {},
   "outputs": [],
   "source": []
  },
  {
   "cell_type": "code",
   "execution_count": null,
   "metadata": {},
   "outputs": [],
   "source": []
  }
 ],
 "metadata": {
  "kernelspec": {
   "display_name": "Python 3",
   "language": "python",
   "name": "python3"
  },
  "language_info": {
   "codemirror_mode": {
    "name": "ipython",
    "version": 3
   },
   "file_extension": ".py",
   "mimetype": "text/x-python",
   "name": "python",
   "nbconvert_exporter": "python",
   "pygments_lexer": "ipython3",
   "version": "3.10.4"
  },
  "vscode": {
   "interpreter": {
    "hash": "3ad933181bd8a04b432d3370b9dc3b0662ad032c4dfaa4e4f1596c548f763858"
   }
  }
 },
 "nbformat": 4,
 "nbformat_minor": 1
}
